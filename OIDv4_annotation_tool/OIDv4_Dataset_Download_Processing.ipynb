{
  "nbformat": 4,
  "nbformat_minor": 0,
  "metadata": {
    "colab": {
      "name": "OIDv4_Dataset_Download_Processing.ipynb",
      "provenance": [],
      "collapsed_sections": [],
      "toc_visible": true
    },
    "kernelspec": {
      "name": "python3",
      "display_name": "Python 3"
    }
  },
  "cells": [
    {
      "cell_type": "markdown",
      "metadata": {
        "id": "BSINHGXHq4Wy",
        "colab_type": "text"
      },
      "source": [
        "# Open Images Dataset Toolkit download"
      ]
    },
    {
      "cell_type": "code",
      "metadata": {
        "id": "4DgiztsqYfZ-",
        "colab_type": "code",
        "outputId": "78cd10b4-11cd-4f9f-b42e-9b65f6386e71",
        "colab": {
          "base_uri": "https://localhost:8080/",
          "height": 102
        }
      },
      "source": [
        "!git clone https://github.com/EscVM/OIDv4_ToolKit.git"
      ],
      "execution_count": 0,
      "outputs": [
        {
          "output_type": "stream",
          "text": [
            "Cloning into 'OIDv4_ToolKit'...\n",
            "remote: Enumerating objects: 422, done.\u001b[K\n",
            "remote: Total 422 (delta 0), reused 0 (delta 0), pack-reused 422\u001b[K\n",
            "Receiving objects: 100% (422/422), 34.08 MiB | 9.06 MiB/s, done.\n",
            "Resolving deltas: 100% (146/146), done.\n"
          ],
          "name": "stdout"
        }
      ]
    },
    {
      "cell_type": "code",
      "metadata": {
        "id": "XtlNNajXY6aJ",
        "colab_type": "code",
        "outputId": "202360ae-948c-4077-c029-a8938e028d76",
        "colab": {
          "base_uri": "https://localhost:8080/",
          "height": 668
        }
      },
      "source": [
        "!pip3 install -r OIDv4_ToolKit/requirements.txt"
      ],
      "execution_count": 0,
      "outputs": [
        {
          "output_type": "stream",
          "text": [
            "Requirement already satisfied: pandas in /usr/local/lib/python3.6/dist-packages (from -r OIDv4_ToolKit/requirements.txt (line 1)) (1.0.4)\n",
            "Requirement already satisfied: numpy in /usr/local/lib/python3.6/dist-packages (from -r OIDv4_ToolKit/requirements.txt (line 2)) (1.18.5)\n",
            "Collecting awscli\n",
            "\u001b[?25l  Downloading https://files.pythonhosted.org/packages/f8/2a/8a94852d48b3f4630d38afaf41658a8624f814a35800634955a442739e3e/awscli-1.18.76-py2.py3-none-any.whl (3.1MB)\n",
            "\u001b[K     |████████████████████████████████| 3.1MB 2.5MB/s \n",
            "\u001b[?25hRequirement already satisfied: urllib3 in /usr/local/lib/python3.6/dist-packages (from -r OIDv4_ToolKit/requirements.txt (line 5)) (1.24.3)\n",
            "Requirement already satisfied: tqdm in /usr/local/lib/python3.6/dist-packages (from -r OIDv4_ToolKit/requirements.txt (line 7)) (4.41.1)\n",
            "Requirement already satisfied: opencv-python in /usr/local/lib/python3.6/dist-packages (from -r OIDv4_ToolKit/requirements.txt (line 9)) (4.1.2.30)\n",
            "Requirement already satisfied: python-dateutil>=2.6.1 in /usr/local/lib/python3.6/dist-packages (from pandas->-r OIDv4_ToolKit/requirements.txt (line 1)) (2.8.1)\n",
            "Requirement already satisfied: pytz>=2017.2 in /usr/local/lib/python3.6/dist-packages (from pandas->-r OIDv4_ToolKit/requirements.txt (line 1)) (2018.9)\n",
            "Requirement already satisfied: PyYAML<5.4,>=3.10; python_version != \"3.4\" in /usr/local/lib/python3.6/dist-packages (from awscli->-r OIDv4_ToolKit/requirements.txt (line 3)) (3.13)\n",
            "Collecting botocore==1.16.26\n",
            "\u001b[?25l  Downloading https://files.pythonhosted.org/packages/d4/b0/9ff467a3318aca0dcf83feafe6e5ef737f17d1ed5348412913ae0b35907a/botocore-1.16.26-py2.py3-none-any.whl (6.2MB)\n",
            "\u001b[K     |████████████████████████████████| 6.2MB 19.5MB/s \n",
            "\u001b[?25hRequirement already satisfied: docutils<0.16,>=0.10 in /usr/local/lib/python3.6/dist-packages (from awscli->-r OIDv4_ToolKit/requirements.txt (line 3)) (0.15.2)\n",
            "Collecting colorama<0.4.4,>=0.2.5; python_version != \"3.4\"\n",
            "  Downloading https://files.pythonhosted.org/packages/c9/dc/45cdef1b4d119eb96316b3117e6d5708a08029992b2fee2c143c7a0a5cc5/colorama-0.4.3-py2.py3-none-any.whl\n",
            "Requirement already satisfied: s3transfer<0.4.0,>=0.3.0 in /usr/local/lib/python3.6/dist-packages (from awscli->-r OIDv4_ToolKit/requirements.txt (line 3)) (0.3.3)\n",
            "Collecting rsa<=3.5.0,>=3.1.2\n",
            "\u001b[?25l  Downloading https://files.pythonhosted.org/packages/e1/ae/baedc9cb175552e95f3395c43055a6a5e125ae4d48a1d7a924baca83e92e/rsa-3.4.2-py2.py3-none-any.whl (46kB)\n",
            "\u001b[K     |████████████████████████████████| 51kB 5.5MB/s \n",
            "\u001b[?25hRequirement already satisfied: six>=1.5 in /usr/local/lib/python3.6/dist-packages (from python-dateutil>=2.6.1->pandas->-r OIDv4_ToolKit/requirements.txt (line 1)) (1.12.0)\n",
            "Requirement already satisfied: jmespath<1.0.0,>=0.7.1 in /usr/local/lib/python3.6/dist-packages (from botocore==1.16.26->awscli->-r OIDv4_ToolKit/requirements.txt (line 3)) (0.10.0)\n",
            "Requirement already satisfied: pyasn1>=0.1.3 in /usr/local/lib/python3.6/dist-packages (from rsa<=3.5.0,>=3.1.2->awscli->-r OIDv4_ToolKit/requirements.txt (line 3)) (0.4.8)\n",
            "Installing collected packages: botocore, colorama, rsa, awscli\n",
            "  Found existing installation: botocore 1.16.23\n",
            "    Uninstalling botocore-1.16.23:\n",
            "      Successfully uninstalled botocore-1.16.23\n",
            "  Found existing installation: rsa 4.0\n",
            "    Uninstalling rsa-4.0:\n",
            "      Successfully uninstalled rsa-4.0\n",
            "Successfully installed awscli-1.18.76 botocore-1.16.26 colorama-0.4.3 rsa-3.4.2\n"
          ],
          "name": "stdout"
        },
        {
          "output_type": "display_data",
          "data": {
            "application/vnd.colab-display-data+json": {
              "pip_warning": {
                "packages": [
                  "rsa"
                ]
              }
            }
          },
          "metadata": {
            "tags": []
          }
        }
      ]
    },
    {
      "cell_type": "code",
      "metadata": {
        "id": "nPri1CfUZBIP",
        "colab_type": "code",
        "outputId": "13e88ea6-1261-4241-bfda-6d426a95d026",
        "colab": {
          "base_uri": "https://localhost:8080/",
          "height": 1000
        }
      },
      "source": [
        "!python OIDv4_ToolKit/main.py downloader --classes OIDv4_ToolKit/classes.txt --type_csv train --limit 98"
      ],
      "execution_count": 0,
      "outputs": [
        {
          "output_type": "stream",
          "text": [
            "\u001b[92m\n",
            "\t\t   ___   _____  ______            _    _    \n",
            "\t\t .'   `.|_   _||_   _ `.         | |  | |   \n",
            "\t\t/  .-.  \\ | |    | | `. \\ _   __ | |__| |_  \n",
            "\t\t| |   | | | |    | |  | |[ \\ [  ]|____   _| \n",
            "\t\t\\  `-'  /_| |_  _| |_.' / \\ \\/ /     _| |_  \n",
            "\t\t `.___.'|_____||______.'   \\__/     |_____|\n",
            "\t\u001b[0m\n",
            "\u001b[92m\n",
            "             _____                    _                 _             \n",
            "            (____ \\                  | |               | |            \n",
            "             _   \\ \\ ___  _ _ _ ____ | | ___   ____  _ | | ____  ____ \n",
            "            | |   | / _ \\| | | |  _ \\| |/ _ \\ / _  |/ || |/ _  )/ ___)\n",
            "            | |__/ / |_| | | | | | | | | |_| ( ( | ( (_| ( (/ /| |    \n",
            "            |_____/ \\___/ \\____|_| |_|_|\\___/ \\_||_|\\____|\\____)_|    \n",
            "                                                          \n",
            "        \u001b[0m\n",
            "    [INFO] | Downloading Apple.\u001b[0m\n",
            "\u001b[91m   [ERROR] | Missing the class-descriptions-boxable.csv file.\u001b[0m\n",
            "\u001b[94m[DOWNLOAD] | Do you want to download the missing file? [Y/n] \u001b[0my\n",
            "...145%, 0 MB, 36751 KB/s, 0 seconds passed\n",
            "\u001b[94m[DOWNLOAD] | File class-descriptions-boxable.csv downloaded into OID/csv_folder/class-descriptions-boxable.csv.\u001b[0m\n",
            "\u001b[91m   [ERROR] | Missing the train-annotations-bbox.csv file.\u001b[0m\n",
            "\u001b[94m[DOWNLOAD] | Do you want to download the missing file? [Y/n] \u001b[0my\n",
            "...100%, 1138 MB, 35693 KB/s, 32 seconds passed\n",
            "\u001b[94m[DOWNLOAD] | File train-annotations-bbox.csv downloaded into OID/csv_folder/train-annotations-bbox.csv.\u001b[0m\n",
            "\n",
            "\u001b[95mApple\u001b[0m\n",
            "    [INFO] | Downloading train images.\u001b[0m\n",
            "    [INFO] | [INFO] Found 1078 online images for train.\u001b[0m\n",
            "    [INFO] | Limiting to 98 images.\u001b[0m\n",
            "    [INFO] | Download of 98 images in train.\u001b[0m\n",
            "100% 98/98 [01:07<00:00,  1.46it/s]\n",
            "    [INFO] | Done!\u001b[0m\n",
            "    [INFO] | Creating labels for Apple of train.\u001b[0m\n",
            "    [INFO] | Labels creation completed.\u001b[0m\n",
            "    [INFO] | Downloading Orange.\u001b[0m\n",
            "\n",
            "\u001b[95mOrange\u001b[0m\n",
            "    [INFO] | Downloading train images.\u001b[0m\n",
            "    [INFO] | [INFO] Found 900 online images for train.\u001b[0m\n",
            "    [INFO] | Limiting to 98 images.\u001b[0m\n",
            "    [INFO] | Download of 98 images in train.\u001b[0m\n",
            "100% 98/98 [01:06<00:00,  1.48it/s]\n",
            "    [INFO] | Done!\u001b[0m\n",
            "    [INFO] | Creating labels for Orange of train.\u001b[0m\n",
            "    [INFO] | Labels creation completed.\u001b[0m\n",
            "    [INFO] | Downloading Light switch.\u001b[0m\n",
            "\n",
            "\u001b[95mLight switch\u001b[0m\n",
            "    [INFO] | Downloading train images.\u001b[0m\n",
            "    [INFO] | [INFO] Found 80 online images for train.\u001b[0m\n",
            "    [INFO] | Limiting to 98 images.\u001b[0m\n",
            "    [INFO] | Download of 80 images in train.\u001b[0m\n",
            "100% 80/80 [00:50<00:00,  1.58it/s]\n",
            "    [INFO] | Done!\u001b[0m\n",
            "    [INFO] | Creating labels for Light switch of train.\u001b[0m\n",
            "    [INFO] | Labels creation completed.\u001b[0m\n"
          ],
          "name": "stdout"
        }
      ]
    },
    {
      "cell_type": "markdown",
      "metadata": {
        "id": "BXXaD-1ZrJBa",
        "colab_type": "text"
      },
      "source": [
        "**Count number of files in the Class folders**\n"
      ]
    },
    {
      "cell_type": "code",
      "metadata": {
        "id": "wHdzL3PvlApk",
        "colab_type": "code",
        "colab": {}
      },
      "source": [
        "import os"
      ],
      "execution_count": 0,
      "outputs": []
    },
    {
      "cell_type": "code",
      "metadata": {
        "id": "v47OQ-_5c8Ut",
        "colab_type": "code",
        "colab": {}
      },
      "source": [
        "dir = '/content/OID/Dataset/train/'"
      ],
      "execution_count": 0,
      "outputs": []
    },
    {
      "cell_type": "code",
      "metadata": {
        "id": "_lACBpg4lCCM",
        "colab_type": "code",
        "outputId": "5df6321a-6851-468f-f0dc-8542d7d5057a",
        "colab": {
          "base_uri": "https://localhost:8080/",
          "height": 68
        }
      },
      "source": [
        "for folder in os.listdir(dir):\n",
        "  print('Number for files in '+folder+'=',len(os.listdir(dir+folder)))"
      ],
      "execution_count": 0,
      "outputs": [
        {
          "output_type": "stream",
          "text": [
            "Number for files in Apple= 99\n",
            "Number for files in Light switch= 81\n",
            "Number for files in Orange= 99\n"
          ],
          "name": "stdout"
        }
      ]
    },
    {
      "cell_type": "markdown",
      "metadata": {
        "id": "GFJ0oDZQrQEi",
        "colab_type": "text"
      },
      "source": [
        "# Download tool to convert txt annotations to PASCAL VOC"
      ]
    },
    {
      "cell_type": "code",
      "metadata": {
        "id": "GOHpsqDOnJIT",
        "colab_type": "code",
        "outputId": "8ac95963-11b5-4116-f23c-d48af0258fb8",
        "colab": {
          "base_uri": "https://localhost:8080/",
          "height": 119
        }
      },
      "source": [
        "!git clone https://github.com/thehetpandya/OIDv4_annotation_tool.git"
      ],
      "execution_count": 0,
      "outputs": [
        {
          "output_type": "stream",
          "text": [
            "Cloning into 'OIDv4_annotation_tool'...\n",
            "remote: Enumerating objects: 13, done.\u001b[K\n",
            "remote: Counting objects: 100% (13/13), done.\u001b[K\n",
            "remote: Compressing objects: 100% (12/12), done.\u001b[K\n",
            "remote: Total 13 (delta 4), reused 0 (delta 0), pack-reused 0\u001b[K\n",
            "Unpacking objects: 100% (13/13), done.\n"
          ],
          "name": "stdout"
        }
      ]
    },
    {
      "cell_type": "code",
      "metadata": {
        "id": "TFzEjC03nPWA",
        "colab_type": "code",
        "outputId": "ae9bc1ae-bdc2-43bd-a95c-29fe58386829",
        "colab": {
          "base_uri": "https://localhost:8080/",
          "height": 243
        }
      },
      "source": [
        "!pip3 install -r OIDv4_annotation_tool/requirements.txt"
      ],
      "execution_count": 0,
      "outputs": [
        {
          "output_type": "stream",
          "text": [
            "Requirement already satisfied: opencv-python in /usr/local/lib/python3.6/dist-packages (from -r OIDv4_annotation_tool/requirements.txt (line 1)) (4.1.2.30)\n",
            "Requirement already satisfied: pathlib in /usr/local/lib/python3.6/dist-packages (from -r OIDv4_annotation_tool/requirements.txt (line 2)) (1.0.1)\n",
            "Collecting argparse\n",
            "  Downloading https://files.pythonhosted.org/packages/f2/94/3af39d34be01a24a6e65433d19e107099374224905f1e0cc6bbe1fd22a2f/argparse-1.4.0-py2.py3-none-any.whl\n",
            "Requirement already satisfied: numpy>=1.11.3 in /usr/local/lib/python3.6/dist-packages (from opencv-python->-r OIDv4_annotation_tool/requirements.txt (line 1)) (1.18.5)\n",
            "Installing collected packages: argparse\n",
            "Successfully installed argparse-1.4.0\n"
          ],
          "name": "stdout"
        },
        {
          "output_type": "display_data",
          "data": {
            "application/vnd.colab-display-data+json": {
              "pip_warning": {
                "packages": [
                  "argparse"
                ]
              }
            }
          },
          "metadata": {
            "tags": []
          }
        }
      ]
    },
    {
      "cell_type": "markdown",
      "metadata": {
        "id": "-62vCbD5rdLp",
        "colab_type": "text"
      },
      "source": [
        "# Convert .txt annotations to xml in bulk"
      ]
    },
    {
      "cell_type": "code",
      "metadata": {
        "id": "pxhDccl1JNHn",
        "colab_type": "code",
        "colab": {}
      },
      "source": [
        "from subprocess import check_output"
      ],
      "execution_count": 0,
      "outputs": []
    },
    {
      "cell_type": "code",
      "metadata": {
        "id": "HvMtDz0BoDE_",
        "colab_type": "code",
        "outputId": "8a4430b5-8f41-446a-8332-8f4ca52bdb21",
        "colab": {
          "base_uri": "https://localhost:8080/",
          "height": 68
        }
      },
      "source": [
        "source = '/content/OID/Dataset/train'\n",
        "\n",
        "for folder in os.listdir(source):\n",
        "  target = f'{source}/{folder}'\n",
        "  output = check_output([\"python\", '/content/OIDv4_annotation_tool/OIDv4_to_VOC.py', \"--sourcepath\" , f\"{source}/{folder}\", \"--dest_path\", f\"{target}\"])"
      ],
      "execution_count": 0,
      "outputs": [
        {
          "output_type": "stream",
          "text": [
            "/content/OID/Dataset/train /content/OID/Dataset/train/Apple\n",
            "/content/OID/Dataset/train /content/OID/Dataset/train/Light switch\n",
            "/content/OID/Dataset/train /content/OID/Dataset/train/Orange\n"
          ],
          "name": "stdout"
        }
      ]
    },
    {
      "cell_type": "markdown",
      "metadata": {
        "id": "bF9OpmidrgUp",
        "colab_type": "text"
      },
      "source": [
        "# Remove .txt annotations"
      ]
    },
    {
      "cell_type": "code",
      "metadata": {
        "id": "DywFH66yqfvh",
        "colab_type": "code",
        "colab": {}
      },
      "source": [
        "import shutil"
      ],
      "execution_count": 0,
      "outputs": []
    },
    {
      "cell_type": "code",
      "metadata": {
        "id": "9NGWGwEBq0Cm",
        "colab_type": "code",
        "outputId": "391e16c9-2133-4d17-c157-0b8f5e9a28bb",
        "colab": {
          "base_uri": "https://localhost:8080/",
          "height": 34
        }
      },
      "source": [
        "for folder in os.listdir('/content/OID/Dataset/train'):\n",
        "  print(folder,len(os.listdir('/content/OID/Dataset/train/'+folder)))"
      ],
      "execution_count": 0,
      "outputs": [
        {
          "output_type": "stream",
          "text": [
            "Mobile phone 1000\n"
          ],
          "name": "stdout"
        }
      ]
    },
    {
      "cell_type": "code",
      "metadata": {
        "id": "87lZCpiGqFaX",
        "colab_type": "code",
        "colab": {}
      },
      "source": [
        "for folder in os.listdir(dir):\n",
        "  shutil.rmtree(f'/{dir}/{folder}/Label')"
      ],
      "execution_count": 0,
      "outputs": []
    }
  ]
}